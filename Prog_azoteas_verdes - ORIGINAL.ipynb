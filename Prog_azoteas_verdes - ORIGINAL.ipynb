{
 "cells": [
  {
   "cell_type": "code",
   "execution_count": null,
   "metadata": {},
   "outputs": [],
   "source": [
    "import matplotlib.pyplot as plt\n",
    "import numpy as np\n",
    "import pandas as pd\n",
    "import shapely\n",
    "\n",
    "from pathlib import Path\n",
    "\n",
    "import programa_azoteas.indices as pindex\n",
    "import programa_azoteas.data as pdata\n",
    "import programa_azoteas.scenes as pscenes\n",
    "import programa_azoteas.shapes as pshapes\n",
    "import programa_azoteas.angulos as pangles"
   ]
  },
  {
   "cell_type": "code",
   "execution_count": 2,
   "metadata": {},
   "outputs": [],
   "source": [
    "# Orden de bandas AnalyticMS_SR_clip es Blue, Green, Red, NIR\n",
    "# Info en nombre de archivo (ej.): 20190109_015005_1020_3B_AnalyticMS.tif is composed of\n",
    "# 2019-01-09 (acquisition date), 01:50:05 (acquisition time), 1020 (satellite ID), 3B (product level),\n",
    "# AnalyticMS (product type), and .tif (file extension)."
   ]
  },
  {
   "cell_type": "code",
   "execution_count": 3,
   "metadata": {},
   "outputs": [],
   "source": [
    "# Direcciones a usar\n",
    "root_infvit = Path(\"C:/Users/Mariana/Documents/unam/Proyecto geo friso/Imagenes satelitales planet/Escenas/Infonavit\")\n",
    "root_prepa = Path(\"C:/Users/Mariana/Documents/unam/Proyecto geo friso/Imagenes satelitales planet/Escenas/ENP8\")\n",
    "root_central = Path(\"C:/Users/Mariana/Documents/unam/Proyecto geo friso/Imagenes satelitales extra/central_abastos_escenas\")"
   ]
  },
  {
   "cell_type": "markdown",
   "metadata": {},
   "source": [
    "# infonavit trapecio"
   ]
  },
  {
   "cell_type": "markdown",
   "metadata": {},
   "source": [
    "## Limpieza y obtención de valores (ángulos)"
   ]
  },
  {
   "cell_type": "code",
   "execution_count": 4,
   "metadata": {},
   "outputs": [],
   "source": [
    "# Shapes a usar del infonavit\n",
    "shp_barranca = pshapes.get_shape(\"../Shapes area de estudio/Infonavit/calle_barranca.shp\")\n",
    "shp_infnvt_azotea = pshapes.get_shape(\"../Shapes area de estudio/Infonavit/infnvt_azotea.shp\")\n",
    "\n",
    "shp_cut1 = pshapes.get_shape(\"../Shapes area de estudio/Infonavit/Cortes/infnvt_cut1.shp\")\n",
    "shp_cut2 = pshapes.get_shape(\"../Shapes area de estudio/Infonavit/Cortes/infnvt_cut2.shp\")\n",
    "shp_tree_test = pshapes.get_shape(\"../Shapes area de estudio/Infonavit/Cortes/infnvt_tree_test.shp\")\n",
    "shp_tree2 = pshapes.get_shape(\"../Shapes area de estudio/Infonavit/Cortes/infnvt_tree_test2.shp\")\n",
    "shp_rectangle = pshapes.get_shape(\"../Shapes area de estudio/Infonavit/Cortes/infnvt_rectangle.shp\")\n",
    "shp_white = pshapes.get_shape(\"../Shapes area de estudio/Infonavit/Cortes/azotea_blanca.shp\")\n",
    "shp_white_small = pshapes.get_shape(\"../Shapes area de estudio/Infonavit/Cortes/azotea_blanca_chica.shp\")\n",
    "shp_rectangle_small = pshapes.get_shape(\"../Shapes area de estudio/Infonavit/Cortes/infnvt_rectangle_chico.shp\")"
   ]
  },
  {
   "cell_type": "code",
   "execution_count": 5,
   "metadata": {},
   "outputs": [],
   "source": [
    "infnvt_full = pscenes.load_datasets(root_infvit)"
   ]
  },
  {
   "cell_type": "code",
   "execution_count": 6,
   "metadata": {},
   "outputs": [],
   "source": [
    "infnvt_scenes = infnvt_full.rio.clip([shp_barranca]) # Clipping a la shape de la calle\n",
    "infnvt_scenes = infnvt_scenes.fillna(0)\n",
    "infnvt_scenes = pscenes.remove_nodata(infnvt_scenes) # Quitando aquellas donde no haya imagen (26)"
   ]
  },
  {
   "cell_type": "code",
   "execution_count": 7,
   "metadata": {},
   "outputs": [],
   "source": [
    "bands = [\"cloud_shadow\", \"light_haze\", \"heavy_haze\", \"cloud\"]\n",
    "thresholds_infnvt = [0.01, 0.01, 0.01, 0.01] # Valores aceptables para c/u de las bandas\n",
    "\n",
    "infnvt_area = pshapes.get_shape_area(infnvt_scenes, shp_infnvt_azotea)\n",
    "\n",
    "infnvt_clean = infnvt_scenes.copy()\n",
    "for band_name, threshold in zip(bands, thresholds_infnvt): # Quitando scenes que no cumplan con valores de threshold (aprox 10)\n",
    "    infnvt_clean = pscenes.clean_scenes(infnvt_clean, infnvt_area, band_name=band_name, threshold=threshold)"
   ]
  },
  {
   "cell_type": "code",
   "execution_count": 8,
   "metadata": {},
   "outputs": [],
   "source": [
    "# Sacando ángulo cenital promediado por día de las imágenes\n",
    "xmean = infnvt_clean.x.mean() # Longitud\n",
    "ymean = infnvt_clean.y.mean() # Latitud\n",
    "\n",
    "infvnt_zenith_each = []\n",
    "for date in infnvt_clean.time:\n",
    "    date = date.item()\n",
    "    infvnt_zenith_each.append(dict(\n",
    "        date = pd.to_datetime(date),\n",
    "        angle = pangles.get_solar_zenith_angle(xmean, ymean, date)\n",
    "    ))\n",
    "infvnt_zenith_each = pd.DataFrame(infvnt_zenith_each).set_index(\"date\")[\"angle\"]"
   ]
  },
  {
   "cell_type": "code",
   "execution_count": 9,
   "metadata": {},
   "outputs": [
    {
     "name": "stderr",
     "output_type": "stream",
     "text": [
      "C:\\Users\\Mariana\\AppData\\Local\\Temp\\ipykernel_10476\\1044009251.py:2: FutureWarning: 'M' is deprecated and will be removed in a future version, please use 'ME' instead.\n",
      "  infnvt_zenith_monthly = infvnt_zenith_each.resample(\"M\").mean()\n"
     ]
    }
   ],
   "source": [
    "# Zenith promediado por mes\n",
    "infnvt_zenith_monthly = infvnt_zenith_each.resample(\"M\").mean()\n",
    "infnvt_zenith_monthly.index = infnvt_zenith_monthly.index.strftime('%Y-%m')"
   ]
  },
  {
   "cell_type": "code",
   "execution_count": 10,
   "metadata": {},
   "outputs": [],
   "source": [
    "# Sacando el promedio de la hora en que se sacaron las imágenes por mes\n",
    "infnvt_time_toma = pdata.df_time_toma(infnvt_clean)\n",
    "# plt.plot(infnvt_time_toma)\n",
    "# plt.xticks(rotation=45)"
   ]
  },
  {
   "cell_type": "code",
   "execution_count": 11,
   "metadata": {},
   "outputs": [],
   "source": [
    "# Sacando los valores de view angle\n",
    "infnvt_view_angle = pangles.get_df_view_angle(root_infvit)\n",
    "\n",
    "# Únicamente aquellos de las escenes ya limpiadas\n",
    "infnvt_view_angle_clean = infnvt_view_angle.loc[infnvt_clean.time.values]"
   ]
  },
  {
   "cell_type": "code",
   "execution_count": 12,
   "metadata": {},
   "outputs": [
    {
     "name": "stderr",
     "output_type": "stream",
     "text": [
      "C:\\Users\\Mariana\\AppData\\Local\\Temp\\ipykernel_10476\\366301639.py:1: FutureWarning: 'M' is deprecated and will be removed in a future version, please use 'ME' instead.\n",
      "  infnvt_view_monthly = infnvt_view_angle_clean.resample(\"M\").mean()\n"
     ]
    }
   ],
   "source": [
    "infnvt_view_monthly = infnvt_view_angle_clean.resample(\"M\").mean()\n",
    "infnvt_view_monthly.index = infnvt_view_monthly.index.strftime('%Y-%m')"
   ]
  },
  {
   "cell_type": "markdown",
   "metadata": {},
   "source": [
    "## Actual work con índices"
   ]
  },
  {
   "cell_type": "code",
   "execution_count": 13,
   "metadata": {},
   "outputs": [],
   "source": [
    "# Sacando índices de vegetación de las imágenes\n",
    "ndvi_infnvt = pindex.ndvi_scenes(infnvt_clean)\n",
    "evi_infnvt = pindex.evi_scenes(infnvt_clean, shp_barranca)\n",
    "srbni_infnvt = pindex.srbni_scenes(infnvt_clean)\n",
    "savi_infnvt = pindex.savi_scenes(infnvt_clean, shp_barranca)"
   ]
  },
  {
   "cell_type": "code",
   "execution_count": 14,
   "metadata": {},
   "outputs": [],
   "source": [
    "# t = gpd.GeoSeries(shp_infnvt_azotea.boundary)\n",
    "\n",
    "# fig, ax = plt.subplots(figsize=(12, 6))\n",
    "# evi_infnvt[0].plot(ax=ax)\n",
    "# t.plot(ax=ax, color=\"r\")"
   ]
  },
  {
   "cell_type": "code",
   "execution_count": 15,
   "metadata": {},
   "outputs": [
    {
     "name": "stderr",
     "output_type": "stream",
     "text": [
      "c:\\Users\\Mariana\\Documents\\unam\\Proyecto geo friso\\Programa_azoteas\\.venv\\Lib\\site-packages\\xarray\\groupers.py:392: FutureWarning: 'M' is deprecated and will be removed in a future version, please use 'ME' instead.\n",
      "  self.index_grouper = pd.Grouper(\n"
     ]
    }
   ],
   "source": [
    "# Sacando promedio por mes de las escenas\n",
    "infnvt_monthly = infnvt_clean.resample(time=\"M\").mean()"
   ]
  },
  {
   "cell_type": "code",
   "execution_count": 16,
   "metadata": {},
   "outputs": [],
   "source": [
    "#Sacando índice de vegetación de las escenas mensuales\n",
    "infnvt_monthly_ndvi = pindex.ndvi_scenes(infnvt_monthly)\n",
    "infnvt_monthly_evi = pindex.evi_scenes(infnvt_monthly, shp_barranca)\n",
    "infnvt_monthly_srbni = pindex.srbni_scenes(infnvt_monthly)\n",
    "infnvt_monthly_savi = pindex.savi_scenes(infnvt_monthly, shp_barranca)"
   ]
  },
  {
   "cell_type": "code",
   "execution_count": 17,
   "metadata": {},
   "outputs": [],
   "source": [
    "cuts_infnvt_lst = {\n",
    "    \"cut_izq\" : shp_cut1,\n",
    "    \"cut_abajo\" : shp_cut2,\n",
    "    \"tree\": shp_tree_test,\n",
    "    \"tree_abajo\" : shp_tree2,\n",
    "    \"rect_big\": shp_rectangle,\n",
    "    \"white_roof\" : shp_white,\n",
    "    \"white_roof_small\" : shp_white_small,\n",
    "    \"rect_small\" : shp_rectangle_small\n",
    "}"
   ]
  },
  {
   "cell_type": "code",
   "execution_count": 18,
   "metadata": {},
   "outputs": [],
   "source": [
    "df_infnvt_indices = []\n",
    "for key, value in cuts_infnvt_lst.items():\n",
    "    for df, name in zip([infnvt_monthly_evi, infnvt_monthly_ndvi, infnvt_monthly_srbni, infnvt_monthly_savi], [\"evi\", \"ndvi\", \"srbni\", \"savi\"]):\n",
    "        temp_df = pdata.get_df_monthly(df, value)\n",
    "        temp_df[\"name\"] = name\n",
    "        temp_df[\"cut\"] = key\n",
    "        df_infnvt_indices.append(temp_df)\n",
    "\n",
    "df_infnvt_indices = (\n",
    "    pd.concat(df_infnvt_indices)\n",
    "    .reset_index()\n",
    "    .rename(columns={\"index\": \"date\"})\n",
    "    .set_index([\"cut\", \"name\", \"date\"])\n",
    "    .sort_index()\n",
    ")"
   ]
  },
  {
   "cell_type": "code",
   "execution_count": 19,
   "metadata": {},
   "outputs": [],
   "source": [
    "# fig, ax = plt.subplots(figsize=(12, 6))\n",
    "# pindex.plot_index_comparison(df_infnvt_indices, \"cut_izq\", ax=ax)\n",
    "# plt.plot(infnvt_zenith_monthly/100)"
   ]
  },
  {
   "cell_type": "code",
   "execution_count": 20,
   "metadata": {},
   "outputs": [],
   "source": [
    "# fig, ax = plt.subplots(figsize=(12, 6))\n",
    "# pindex.plot_index_comparison(df_infnvt_indices, \"rect_small\", ax=ax)"
   ]
  },
  {
   "cell_type": "code",
   "execution_count": 21,
   "metadata": {},
   "outputs": [],
   "source": [
    "# fig, ax = plt.subplots(figsize=(12, 6))\n",
    "# pindex.plot_index_comparison(df_infnvt_indices, \"tree\", ax=ax)"
   ]
  },
  {
   "cell_type": "code",
   "execution_count": 22,
   "metadata": {},
   "outputs": [],
   "source": [
    "# plt.plot(df_infnvt_indices.xs(\"evi\", level=\"name\").xs(\"rect_small\", level=\"cut\")[\"value\"]) # 0.1, blue\n",
    "# plt.plot(df_infnvt_indices.xs(\"evi\", level=\"name\").xs(\"tree\", level=\"cut\")[\"value\"]) # 0.4, orange\n",
    "# # plt.plot(df_infnvt_indices.xs(\"evi\", level=\"name\").xs(\"cut_izq\", level=\"cut\")[\"value\"]) # 0.2, green\n",
    "# # plt.plot(infnvt_zenith_monthly/100) # red\n",
    "# plt.plot(infnvt_view_monthly/10)"
   ]
  },
  {
   "cell_type": "markdown",
   "metadata": {},
   "source": [
    "# Infonavit trapecio hueco"
   ]
  },
  {
   "cell_type": "code",
   "execution_count": 23,
   "metadata": {},
   "outputs": [],
   "source": [
    "shp_infnvt_hole = pshapes.get_shape(\"../Shapes area de estudio/Infonavit/infnvt_hollow.shp\")"
   ]
  },
  {
   "cell_type": "code",
   "execution_count": 24,
   "metadata": {},
   "outputs": [],
   "source": [
    "inf_sc_hole = infnvt_clean.rio.clip([shp_infnvt_hole])"
   ]
  },
  {
   "cell_type": "code",
   "execution_count": 25,
   "metadata": {},
   "outputs": [
    {
     "name": "stderr",
     "output_type": "stream",
     "text": [
      "c:\\Users\\Mariana\\Documents\\unam\\Proyecto geo friso\\Programa_azoteas\\.venv\\Lib\\site-packages\\xarray\\groupers.py:392: FutureWarning: 'M' is deprecated and will be removed in a future version, please use 'ME' instead.\n",
      "  self.index_grouper = pd.Grouper(\n"
     ]
    }
   ],
   "source": [
    "inf_hole_monthly = inf_sc_hole.resample(time=\"M\").mean()"
   ]
  },
  {
   "cell_type": "code",
   "execution_count": 26,
   "metadata": {},
   "outputs": [],
   "source": [
    "hole_monthly_ndvi = pindex.ndvi_scenes(inf_hole_monthly)\n",
    "hole_monthly_evi = pindex.evi_scenes(inf_hole_monthly, shp_infnvt_hole)\n",
    "hole_monthly_savi = pindex.savi_scenes(inf_hole_monthly, shp_infnvt_hole)"
   ]
  },
  {
   "cell_type": "code",
   "execution_count": 27,
   "metadata": {},
   "outputs": [],
   "source": [
    "# df_hole_ndvi = pdata.get_df_monthly(hole_monthly_ndvi, shp_infnvt_hole)\n",
    "# df_hole_evi = pdata.get_df_monthly(hole_monthly_evi, shp_infnvt_hole)\n",
    "# df_hole_savi = pdata.get_df_monthly(hole_monthly_savi, shp_infnvt_hole)"
   ]
  },
  {
   "cell_type": "code",
   "execution_count": 28,
   "metadata": {},
   "outputs": [],
   "source": [
    "cut_hole_lst ={\n",
    "    \"hollow\" : shp_infnvt_hole\n",
    "}"
   ]
  },
  {
   "cell_type": "code",
   "execution_count": 29,
   "metadata": {},
   "outputs": [],
   "source": [
    "df_hole_indices = []\n",
    "for key, value in cut_hole_lst.items():\n",
    "    for df, name in zip([hole_monthly_ndvi, hole_monthly_evi, hole_monthly_savi], [\"ndvi\", \"evi\", \"savi\"]):\n",
    "        temp_df = pdata.get_df_monthly(df, value)\n",
    "        temp_df[\"name\"] = name\n",
    "        temp_df[\"cut\"] = key\n",
    "        df_hole_indices.append(temp_df)\n",
    "\n",
    "df_hole_indices = (\n",
    "    pd.concat(df_hole_indices)\n",
    "    .reset_index()\n",
    "    .rename(columns={\"index\": \"date\"})\n",
    "    .set_index([\"cut\", \"name\", \"date\"])\n",
    "    .sort_index()\n",
    ")"
   ]
  },
  {
   "cell_type": "code",
   "execution_count": 92,
   "metadata": {},
   "outputs": [],
   "source": [
    "# fig, ax = plt.subplots(figsize=(12, 6))\n",
    "# pindex.plot_index_comparison(df_hole_indices, \"hollow\", ax=ax)"
   ]
  },
  {
   "cell_type": "code",
   "execution_count": null,
   "metadata": {},
   "outputs": [],
   "source": [
    "# df_hole_indices.to_csv(\"../csv final/planet_vi_infnvt_hollow.csv\")"
   ]
  },
  {
   "cell_type": "markdown",
   "metadata": {},
   "source": [
    "# Anexo"
   ]
  },
  {
   "cell_type": "code",
   "execution_count": 31,
   "metadata": {},
   "outputs": [],
   "source": [
    "shp_anexo_calle = pshapes.get_shape(\"../Shapes area de estudio/Anexo/anexo_calle.shp\")\n",
    "\n",
    "shp_anexo = []\n",
    "for i in range(1, 5):\n",
    "    shp_temp = pshapes.get_shape(f\"../Shapes area de estudio/Anexo/anexo{i}.shp\")\n",
    "    shp_anexo.append(shp_temp)\n",
    "\n",
    "shp_anexo = shapely.union_all(shp_anexo)"
   ]
  },
  {
   "cell_type": "code",
   "execution_count": 32,
   "metadata": {},
   "outputs": [],
   "source": [
    "anexo_scenes = infnvt_full.rio.clip([shp_anexo])\n",
    "anexo_scenes = anexo_scenes.fillna(0)\n",
    "anexo_scenes = pscenes.remove_nodata(anexo_scenes)"
   ]
  },
  {
   "cell_type": "code",
   "execution_count": 33,
   "metadata": {},
   "outputs": [],
   "source": [
    "bands_clean = [\"cloud_shadow\", \"light_haze\", \"heavy_haze\", \"cloud\"]\n",
    "thresholds_anexo = [0.01, 0.01, 0.01, 0.01] # Valores aceptables para c/u de las bandas\n",
    "\n",
    "anexo_area = pshapes.get_shape_area(anexo_scenes, shp_anexo)\n",
    "\n",
    "anexo_clean = anexo_scenes.copy()\n",
    "for band_name, threshold in zip(bands_clean, thresholds_anexo): # Quitando scenes que no cumplan con valores de threshold (aprox 10)\n",
    "    anexo_clean = pscenes.clean_scenes(anexo_clean, anexo_area, band_name=band_name, threshold=threshold)"
   ]
  },
  {
   "cell_type": "code",
   "execution_count": 34,
   "metadata": {},
   "outputs": [
    {
     "name": "stderr",
     "output_type": "stream",
     "text": [
      "c:\\Users\\Mariana\\Documents\\unam\\Proyecto geo friso\\Programa_azoteas\\.venv\\Lib\\site-packages\\xarray\\groupers.py:392: FutureWarning: 'M' is deprecated and will be removed in a future version, please use 'ME' instead.\n",
      "  self.index_grouper = pd.Grouper(\n"
     ]
    }
   ],
   "source": [
    "anexo_monthly = anexo_clean.resample(time=\"M\").mean()"
   ]
  },
  {
   "cell_type": "code",
   "execution_count": 35,
   "metadata": {},
   "outputs": [],
   "source": [
    "anexo_monthly_ndvi = pindex.ndvi_scenes(anexo_monthly)"
   ]
  },
  {
   "cell_type": "code",
   "execution_count": 36,
   "metadata": {},
   "outputs": [],
   "source": [
    "anexo_monthly_ndvi = pindex.ndvi_scenes(anexo_monthly)\n",
    "anexo_monthly_evi = pindex.evi_scenes(anexo_monthly, shp_anexo)\n",
    "anexo_monthly_savi = pindex.savi_scenes(anexo_monthly, shp_anexo)"
   ]
  },
  {
   "cell_type": "code",
   "execution_count": 37,
   "metadata": {},
   "outputs": [],
   "source": [
    "cut_anexo_lst = {\n",
    "    \"anexo\" : shp_anexo\n",
    "}"
   ]
  },
  {
   "cell_type": "code",
   "execution_count": 38,
   "metadata": {},
   "outputs": [],
   "source": [
    "df_anexo_indices = []\n",
    "for key, value in cut_anexo_lst.items():\n",
    "    for df, name in zip([anexo_monthly_ndvi, anexo_monthly_evi, anexo_monthly_savi], [\"ndvi\", \"evi\", \"savi\"]):\n",
    "        temp_df = pdata.get_df_monthly(df, value)\n",
    "        temp_df[\"name\"] = name\n",
    "        temp_df[\"cut\"] = key\n",
    "        df_anexo_indices.append(temp_df)\n",
    "\n",
    "df_anexo_indices = (\n",
    "    pd.concat(df_anexo_indices)\n",
    "    .reset_index()\n",
    "    .rename(columns={\"index\": \"date\"})\n",
    "    .set_index([\"cut\", \"name\", \"date\"])\n",
    "    .sort_index()\n",
    ")"
   ]
  },
  {
   "cell_type": "code",
   "execution_count": 76,
   "metadata": {},
   "outputs": [],
   "source": [
    "# fig, ax = plt.subplots(figsize=(12, 6))\n",
    "# pindex.plot_index_comparison(df_anexo_indices, \"anexo\", ax=ax)"
   ]
  },
  {
   "cell_type": "code",
   "execution_count": 40,
   "metadata": {},
   "outputs": [],
   "source": [
    "# plt.plot(df_anexo_indices.xs(\"ndvi\", level=\"name\").xs(\"anexo\", level=\"cut\")[\"value\"])\n",
    "# plt.plot(df_hole_indices.xs(\"ndvi\", level=\"name\").xs(\"hollow\", level=\"cut\")[\"value\"])"
   ]
  },
  {
   "cell_type": "code",
   "execution_count": 77,
   "metadata": {},
   "outputs": [],
   "source": [
    "anex_ndvi = df_anexo_indices.xs(\"ndvi\", level=\"name\").xs(\"anexo\", level=\"cut\")[\"value\"]\n",
    "anex_evi = df_anexo_indices.xs(\"evi\", level=\"name\").xs(\"anexo\", level=\"cut\")[\"value\"]\n",
    "anex_savi = df_anexo_indices.xs(\"savi\", level=\"name\").xs(\"anexo\", level=\"cut\")[\"value\"]\n",
    "\n",
    "hole_ndvi = df_hole_indices.xs(\"ndvi\", level=\"name\").xs(\"hollow\", level=\"cut\")[\"value\"]\n",
    "hole_evi = df_hole_indices.xs(\"evi\", level=\"name\").xs(\"hollow\", level=\"cut\")[\"value\"]\n",
    "hole_savi = df_hole_indices.xs(\"savi\", level=\"name\").xs(\"hollow\", level=\"cut\")[\"value\"]"
   ]
  },
  {
   "cell_type": "code",
   "execution_count": 88,
   "metadata": {},
   "outputs": [],
   "source": [
    "rec_evi = df_infnvt_indices.xs(\"evi\", level=\"name\").xs(\"rect_small\", level=\"cut\")[\"value\"]"
   ]
  },
  {
   "cell_type": "code",
   "execution_count": 42,
   "metadata": {},
   "outputs": [],
   "source": [
    "# df = pd.concat([anex_ndvi, hole_ndvi], axis=1, keys=[\"anexo\", \"infnvt\"]).reset_index().melt(id_vars=[\"date\"])\n",
    "# fig, ax = plt.subplots(figsize=(16, 6))\n",
    "# sns.lineplot(df, hue=\"variable\", x=\"date\", y=\"value\")"
   ]
  },
  {
   "cell_type": "code",
   "execution_count": 1,
   "metadata": {},
   "outputs": [],
   "source": [
    "# fig, ax = plt.subplots(figsize=(16, 6))\n",
    "# anex_evi.plot(ax=ax, label=\"anexo\")\n",
    "# hole_evi.plot(ax=ax, label=\"hollow\")\n",
    "# rec_evi.plot(ax=ax, label=\"rect\")\n",
    "# ax.legend()\n",
    "# ax.set_title(\"evi\")"
   ]
  },
  {
   "cell_type": "markdown",
   "metadata": {},
   "source": [
    "# Central de abastos"
   ]
  },
  {
   "cell_type": "code",
   "execution_count": 44,
   "metadata": {},
   "outputs": [],
   "source": [
    "shp_central = pshapes.get_shape(\"../Shapes area de estudio/Extra/central_abastos.shp\")"
   ]
  },
  {
   "cell_type": "code",
   "execution_count": 45,
   "metadata": {},
   "outputs": [],
   "source": [
    "central_full, central_cloud, central_cloudprob, central_cloudscore = pscenes.load_datasets_sentinel(root_central)"
   ]
  },
  {
   "cell_type": "code",
   "execution_count": 46,
   "metadata": {},
   "outputs": [],
   "source": [
    "central_cloud_mask = pscenes.get_clean_cloudscore_mask(central_cloudscore, 0.9)"
   ]
  },
  {
   "cell_type": "code",
   "execution_count": 47,
   "metadata": {},
   "outputs": [],
   "source": [
    "central_clean = central_full[central_cloud_mask]"
   ]
  },
  {
   "cell_type": "code",
   "execution_count": 48,
   "metadata": {},
   "outputs": [],
   "source": [
    "ndvi_central = pindex.ndvi_scenes(central_clean)\n",
    "evi_central = pindex.evi_scenes(central_clean, shp_central)\n",
    "savi_central = pindex.savi_scenes(central_clean, shp_central)"
   ]
  },
  {
   "cell_type": "code",
   "execution_count": 49,
   "metadata": {},
   "outputs": [
    {
     "name": "stderr",
     "output_type": "stream",
     "text": [
      "c:\\Users\\Mariana\\Documents\\unam\\Proyecto geo friso\\Programa_azoteas\\.venv\\Lib\\site-packages\\xarray\\groupers.py:392: FutureWarning: 'M' is deprecated and will be removed in a future version, please use 'ME' instead.\n",
      "  self.index_grouper = pd.Grouper(\n"
     ]
    }
   ],
   "source": [
    "central_monthly = central_clean.resample(time=\"M\").mean()"
   ]
  },
  {
   "cell_type": "code",
   "execution_count": 50,
   "metadata": {},
   "outputs": [],
   "source": [
    "central_monthly_ndvi = pindex.ndvi_scenes(central_monthly)\n",
    "central_monthly_evi = pindex.evi_scenes(central_monthly, shp_central)\n",
    "central_monthly_savi = pindex.savi_scenes(central_monthly, shp_central)\n",
    "\n",
    "central_monthly_evi = central_monthly_evi.where(central_monthly_evi != -np.inf, np.nan)"
   ]
  },
  {
   "cell_type": "code",
   "execution_count": 51,
   "metadata": {},
   "outputs": [],
   "source": [
    "cuts_central_lst = {\n",
    "    \"central\" : shp_central\n",
    "}"
   ]
  },
  {
   "cell_type": "code",
   "execution_count": 52,
   "metadata": {},
   "outputs": [],
   "source": [
    "df_central_indices = []\n",
    "for key, value in cuts_central_lst.items():\n",
    "    for df, name in zip([central_monthly_ndvi, central_monthly_evi, central_monthly_savi], [\"ndvi\", \"evi\", \"savi\"]):\n",
    "        temp_df = pdata.get_df_monthly(df, shp_central)\n",
    "        temp_df[\"name\"] = name\n",
    "        temp_df[\"cut\"] = key\n",
    "        df_central_indices.append(temp_df)\n",
    "\n",
    "df_central_indices = (\n",
    "    pd.concat(df_central_indices)\n",
    "    .reset_index()\n",
    "    .rename(columns={\"index\": \"date\"})\n",
    "    .set_index([\"cut\", \"name\", \"date\"])\n",
    "    .sort_index()\n",
    ")"
   ]
  },
  {
   "cell_type": "code",
   "execution_count": 91,
   "metadata": {},
   "outputs": [],
   "source": [
    "# fig, ax = plt.subplots(figsize=(12, 6))\n",
    "# pindex.plot_index_comparison(df_central_indices, \"central\", ax=ax)"
   ]
  },
  {
   "cell_type": "code",
   "execution_count": 54,
   "metadata": {},
   "outputs": [],
   "source": [
    "# plt.plot(df_infnvt_indices.xs(\"savi\", level=\"name\").xs(\"rect_small\", level=\"cut\")[\"value\"])\n",
    "# # plt.plot(df_central_indices[0][\"value\"]) # ndvi\n",
    "# # plt.plot(df_central_indices[1][\"value\"]) # evi\n",
    "# plt.plot(df_central_indices[2][\"value\"]) # savi"
   ]
  },
  {
   "cell_type": "markdown",
   "metadata": {},
   "source": [
    "# Prepa"
   ]
  },
  {
   "cell_type": "code",
   "execution_count": 55,
   "metadata": {},
   "outputs": [],
   "source": [
    "# Shapes a usar de la prepa\n",
    "shp_prepa_calle = pshapes.get_shape(\"../Shapes area de estudio/ENP8/enp8_calle.shp\")\n",
    "shp_prepa_azotea = pshapes.get_shape(\"../Shapes area de estudio/ENP8/enp8_azotea.shp\")\n",
    "\n",
    "shp_prepa_tree = pshapes.get_shape(\"../Shapes area de estudio/ENP8/Cortes/enp8_tree.shp\")"
   ]
  },
  {
   "cell_type": "code",
   "execution_count": 56,
   "metadata": {},
   "outputs": [],
   "source": [
    "prepa_full = pscenes.load_datasets(root_prepa)"
   ]
  },
  {
   "cell_type": "code",
   "execution_count": 57,
   "metadata": {},
   "outputs": [],
   "source": [
    "prepa_scenes = prepa_full.rio.clip([shp_prepa_calle]) # Clipping a la shape de la calle\n",
    "prepa_scenes = prepa_scenes.fillna(0)\n",
    "prepa_scenes = pscenes.remove_nodata(prepa_scenes) # Quitando aquellas donde no haya imagen (6)"
   ]
  },
  {
   "cell_type": "code",
   "execution_count": 58,
   "metadata": {},
   "outputs": [],
   "source": [
    "# Usando bands previously stablished\n",
    "thresholds_prepa = [0.01, 0.01, 0.01, 0.01]\n",
    "\n",
    "prepa_area = pshapes.get_shape_area(prepa_scenes, shp_prepa_azotea )\n",
    "\n",
    "prepa_clean = prepa_scenes.copy()\n",
    "for band_name, threshold in zip(bands, thresholds_prepa): # Quitando scenes que no cumplan con valores de threshold (9)\n",
    "    prepa_clean = pscenes.clean_scenes(prepa_clean, prepa_area, band_name=band_name, threshold=threshold)"
   ]
  },
  {
   "cell_type": "code",
   "execution_count": 59,
   "metadata": {},
   "outputs": [],
   "source": [
    "# ndvi de las imágenes\n",
    "ndvi_prepa = pindex.ndvi_scenes(prepa_clean)"
   ]
  },
  {
   "cell_type": "code",
   "execution_count": 60,
   "metadata": {},
   "outputs": [],
   "source": [
    "# fig, ax = plt.subplots(figsize=(12, 6))\n",
    "# ndvi_prepa[0].plot(ax=ax)"
   ]
  },
  {
   "cell_type": "code",
   "execution_count": 61,
   "metadata": {},
   "outputs": [
    {
     "name": "stderr",
     "output_type": "stream",
     "text": [
      "c:\\Users\\Mariana\\Documents\\unam\\Proyecto geo friso\\Programa_azoteas\\.venv\\Lib\\site-packages\\xarray\\groupers.py:392: FutureWarning: 'M' is deprecated and will be removed in a future version, please use 'ME' instead.\n",
      "  self.index_grouper = pd.Grouper(\n"
     ]
    }
   ],
   "source": [
    "prepa_monthly = prepa_clean.resample(time=\"M\").mean()"
   ]
  },
  {
   "cell_type": "code",
   "execution_count": 62,
   "metadata": {},
   "outputs": [],
   "source": [
    "prepa_monthly_ndvi = pindex.ndvi_scenes(prepa_monthly)\n",
    "prepa_monthly_evi = pindex.evi_scenes(prepa_monthly, shp_prepa_calle)\n",
    "prepa_monthly_srbni = pindex.srbni_scenes(prepa_monthly)\n",
    "prepa_monthly_savi = pindex.savi_scenes(prepa_monthly, shp_prepa_calle)"
   ]
  },
  {
   "cell_type": "code",
   "execution_count": 63,
   "metadata": {},
   "outputs": [],
   "source": [
    "cuts_prepa_lst = {\n",
    "    \"azotea\" : shp_prepa_azotea,\n",
    "    \"tree\" : shp_prepa_tree\n",
    "}"
   ]
  },
  {
   "cell_type": "code",
   "execution_count": 64,
   "metadata": {},
   "outputs": [],
   "source": [
    "df_prepa_indices = []\n",
    "for key, value in cuts_prepa_lst.items():\n",
    "    for df, name in zip([prepa_monthly_evi, prepa_monthly_ndvi, prepa_monthly_srbni, prepa_monthly_savi], [\"evi\", \"ndvi\", \"srbni\", \"savi\"]):\n",
    "        temp_df = pdata.get_df_monthly(df, value)\n",
    "        temp_df[\"name\"] = name\n",
    "        temp_df[\"cut\"] = key\n",
    "        df_prepa_indices.append(temp_df)\n",
    "\n",
    "df_prepa_indices = (\n",
    "    pd.concat(df_prepa_indices)\n",
    "    .reset_index()\n",
    "    .rename(columns={\"index\": \"date\"})\n",
    "    .set_index([\"cut\", \"name\", \"date\"])\n",
    "    .sort_index()\n",
    ")"
   ]
  },
  {
   "cell_type": "code",
   "execution_count": 65,
   "metadata": {},
   "outputs": [],
   "source": [
    "# fig, ax = plt.subplots(figsize=(12, 6))\n",
    "# ndvi_prepa[0].plot(ax=ax)"
   ]
  },
  {
   "cell_type": "code",
   "execution_count": 66,
   "metadata": {},
   "outputs": [],
   "source": [
    "# plt.plot(df_prepa_indices.xs(\"tree\", level=\"cut\").xs(\"ndvi\", level=\"name\")[\"value\"])\n",
    "# plt.plot(df_prepa_indices.xs(\"azotea\", level=\"cut\").xs(\"ndvi\", level=\"name\")[\"value\"])"
   ]
  },
  {
   "cell_type": "markdown",
   "metadata": {},
   "source": [
    "# Alineación de imágenes a mano (infonavit trapecio) (se cancela)"
   ]
  },
  {
   "cell_type": "code",
   "execution_count": 67,
   "metadata": {},
   "outputs": [],
   "source": [
    "# Creando geodataframe con geometries de los puntos del shape de infoanvit para alineo\n",
    "# infnvt_points: gpd.GeoDataFrame = gpd.read_file(\"../Puntos shift alineacion/Infonavit/infnvt_base.shp\")\n",
    "# infnvt_points[\"index\"] = infnvt_points[\"Datetime\"].str[-1].astype(int) # Obteniendo si es punto de la izquierda (1) o derecha (2)\n",
    "# infnvt_points[\"Datetime\"] = infnvt_points[\"Datetime\"].apply(get_time_from_name)\n",
    "\n",
    "# infnvt_points[\"lon\"] = infnvt_points[\"geometry\"].x\n",
    "# infnvt_points[\"lat\"] = infnvt_points[\"geometry\"].y\n",
    "\n",
    "# infnvt_points = infnvt_points.drop(columns=[\"Visible\", \"geometry\"]).set_index([\"Datetime\", \"index\"]).sort_index() # Multiindex por datetime y tipo de index"
   ]
  },
  {
   "cell_type": "code",
   "execution_count": 68,
   "metadata": {},
   "outputs": [],
   "source": [
    "# infnvt_p1 = infnvt_points.loc[pd.IndexSlice[:, 1], :].reset_index(level=1, drop=True) # Creando df con puntos 1 (izquierda)\n",
    "# infnvt_p2 = infnvt_points.loc[pd.IndexSlice[:, 2], :].reset_index(level=1, drop=True) #  Creando df con puntos 2 (derecha)"
   ]
  },
  {
   "cell_type": "code",
   "execution_count": 69,
   "metadata": {},
   "outputs": [],
   "source": [
    "# inft_delta1 = (infnvt_p1 - infnvt_p1.iloc[0]).astype(\"int64\") # Sacando diferencia con punto base [0]\n",
    "# inft_delta2 = (infnvt_p2 - infnvt_p2.iloc[0]).astype(\"int64\") # # Sacando diferencia con punto base [0]\n",
    "# inft_delta = ((((inft_delta1 + inft_delta2) / 2) / 3).round()).astype(\"int64\") # Promedio de diferencias entre ambos puntos por escena, se divide entre 3\n",
    "#                                                             # porquec/pixel es de 3x3, y queremos saber cuántos pixeles se debe mover\n",
    "# inft_delta[\"lat\"] = inft_delta[\"lat\"] * -1 # Porque al hacer la función shift un valor positivo de y mueve hacia abajo el array, y viceversa"
   ]
  },
  {
   "cell_type": "code",
   "execution_count": 70,
   "metadata": {},
   "outputs": [],
   "source": [
    "# shift_test = infnvt_clean.sel(time=inft_delta.index) # Sacando los arrays de los dates de los que se hicieron puntos"
   ]
  },
  {
   "cell_type": "code",
   "execution_count": 71,
   "metadata": {},
   "outputs": [],
   "source": [
    "# new_shift = []\n",
    "# for i in range(0, len(inft_delta.index)):\n",
    "#     new_shift.append(shift_test[i].shift(x=inft_delta[\"lon\"].iloc[i], y=inft_delta[\"lat\"].iloc[i]))"
   ]
  },
  {
   "cell_type": "code",
   "execution_count": 72,
   "metadata": {},
   "outputs": [],
   "source": [
    "# arr = new_shift[2].copy()\n",
    "# arr.attrs[\"long_name\"] = (\"blue\", \"green\", \"red\", \"nir\", 'clear', 'snow', 'cloud_shadow', 'light_haze', 'heavy_haze', 'cloud', 'confidence', 'unusable')"
   ]
  },
  {
   "cell_type": "code",
   "execution_count": 73,
   "metadata": {},
   "outputs": [],
   "source": [
    "# arr.rio.to_raster(\"xd.tif\")"
   ]
  }
 ],
 "metadata": {
  "kernelspec": {
   "display_name": ".venv",
   "language": "python",
   "name": "python3"
  },
  "language_info": {
   "codemirror_mode": {
    "name": "ipython",
    "version": 3
   },
   "file_extension": ".py",
   "mimetype": "text/x-python",
   "name": "python",
   "nbconvert_exporter": "python",
   "pygments_lexer": "ipython3",
   "version": "3.12.4"
  }
 },
 "nbformat": 4,
 "nbformat_minor": 2
}
