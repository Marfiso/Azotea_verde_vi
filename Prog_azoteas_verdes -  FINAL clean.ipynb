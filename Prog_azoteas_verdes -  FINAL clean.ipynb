{
 "cells": [
  {
   "cell_type": "code",
   "execution_count": 25,
   "metadata": {},
   "outputs": [],
   "source": [
    "import matplotlib.pyplot as plt\n",
    "import pandas as pd\n",
    "import toml\n",
    "\n",
    "from pathlib import Path\n",
    "\n",
    "import programa_azoteas.indices as pindex\n",
    "import programa_azoteas.data as pdata\n",
    "import programa_azoteas.scenes as pscenes\n",
    "import programa_azoteas.shapes as pshapes"
   ]
  },
  {
   "cell_type": "code",
   "execution_count": 9,
   "metadata": {},
   "outputs": [],
   "source": [
    "# Direcciones a usar\n",
    "with open(\"./config.toml\") as f:\n",
    "    config = toml.load(f)\n",
    "datos_path = Path(config[\"datos_path\"])"
   ]
  },
  {
   "cell_type": "markdown",
   "metadata": {},
   "source": [
    "# Infonavit"
   ]
  },
  {
   "cell_type": "markdown",
   "metadata": {},
   "source": [
    "## Carga y limpieza de datos"
   ]
  },
  {
   "cell_type": "code",
   "execution_count": 13,
   "metadata": {},
   "outputs": [],
   "source": [
    "# Shapes a usar del infonavit\n",
    "shp_barranca = pshapes.get_shape(datos_path / \"Shapes area de estudio/Infonavit/calle_barranca.shp\") # shp de área de infnvt hasta la calle que la rodea\n",
    "shp_infnvt_azotea = pshapes.get_shape(datos_path / \"Shapes area de estudio/Infonavit/infnvt_azotea.shp\") # Únicamnte de la azotea del infonavit\n",
    "shp_infnvt_hole = pshapes.get_shape(datos_path / \"Shapes area de estudio/Infonavit/infnvt_hollow.shp\") # shp de azotea pero con el hueco donde está el rectángulo"
   ]
  },
  {
   "cell_type": "code",
   "execution_count": 15,
   "metadata": {},
   "outputs": [],
   "source": [
    "infnvt_full = pscenes.load_datasets(datos_path / \"Imagenes satelitales planet/Escenas/Infonavit\") # Cargando todas las escenas del infonavit"
   ]
  },
  {
   "cell_type": "code",
   "execution_count": 16,
   "metadata": {},
   "outputs": [],
   "source": [
    "infnvt_scenes = infnvt_full.rio.clip([shp_barranca]) # Clipping a la shape de la calle\n",
    "infnvt_scenes = infnvt_scenes.fillna(0)\n",
    "infnvt_scenes = pscenes.remove_nodata(infnvt_scenes) # Quitando aquellas donde no haya imagen"
   ]
  },
  {
   "cell_type": "code",
   "execution_count": 17,
   "metadata": {},
   "outputs": [],
   "source": [
    "bands = [\"cloud_shadow\", \"light_haze\", \"heavy_haze\", \"cloud\"]\n",
    "thresholds_infnvt = [0.01, 0.01, 0.01, 0.01] # Valores aceptables para c/u de las bandas\n",
    "\n",
    "infnvt_area = pshapes.get_shape_area(infnvt_scenes, shp_infnvt_azotea)\n",
    "\n",
    "infnvt_clean = infnvt_scenes.copy()\n",
    "for band_name, threshold in zip(bands, thresholds_infnvt): # Quitando scenes que no cumplan con valores de threshold\n",
    "    infnvt_clean = pscenes.clean_scenes(infnvt_clean, infnvt_area, band_name=band_name, threshold=threshold)"
   ]
  },
  {
   "cell_type": "code",
   "execution_count": 18,
   "metadata": {},
   "outputs": [],
   "source": [
    "inf_sc_hole = infnvt_clean.rio.clip([shp_infnvt_hole]) # Clipping las escenas limpias a la shp del infonavit hueco"
   ]
  },
  {
   "cell_type": "markdown",
   "metadata": {},
   "source": [
    "## Índices de vegetación"
   ]
  },
  {
   "cell_type": "code",
   "execution_count": 19,
   "metadata": {},
   "outputs": [
    {
     "name": "stderr",
     "output_type": "stream",
     "text": [
      "c:\\Users\\Mariana\\Documents\\unam\\Proyecto_azoteas_verdes_satelite\\Programa_azoteas\\.venv\\Lib\\site-packages\\xarray\\groupers.py:392: FutureWarning: 'M' is deprecated and will be removed in a future version, please use 'ME' instead.\n",
      "  self.index_grouper = pd.Grouper(\n"
     ]
    }
   ],
   "source": [
    "# Sacando promedio por mes de las escenas (área de estudio infonavit hueco)\n",
    "inf_hole_monthly = inf_sc_hole.resample(time=\"M\").mean()"
   ]
  },
  {
   "cell_type": "code",
   "execution_count": 20,
   "metadata": {},
   "outputs": [],
   "source": [
    "# Sacando valores de índices de vegetación (ndvi, evi y savi) de los promedios mensuales \n",
    "hole_monthly_ndvi = pindex.ndvi_scenes(inf_hole_monthly)\n",
    "hole_monthly_evi = pindex.evi_scenes(inf_hole_monthly, shp_infnvt_hole)\n",
    "hole_monthly_savi = pindex.savi_scenes(inf_hole_monthly, shp_infnvt_hole)"
   ]
  },
  {
   "cell_type": "code",
   "execution_count": 21,
   "metadata": {},
   "outputs": [],
   "source": [
    "# Lista de cuts sobre los que se evalúa el VI (en este caso sólo uno, la misma shp del infonavit hueco)\n",
    "cut_hole_lst ={\n",
    "    \"hollow\" : shp_infnvt_hole\n",
    "}"
   ]
  },
  {
   "cell_type": "code",
   "execution_count": 22,
   "metadata": {},
   "outputs": [],
   "source": [
    "# Dataframe con los valores de VI mensuales\n",
    "df_hole_indices = []\n",
    "for key, value in cut_hole_lst.items():\n",
    "    for df, name in zip([hole_monthly_ndvi, hole_monthly_evi, hole_monthly_savi], [\"ndvi\", \"evi\", \"savi\"]):\n",
    "        temp_df = pdata.get_df_monthly(df, value)\n",
    "        temp_df[\"name\"] = name\n",
    "        temp_df[\"cut\"] = key\n",
    "        df_hole_indices.append(temp_df)\n",
    "\n",
    "df_hole_indices = (\n",
    "    pd.concat(df_hole_indices)\n",
    "    .reset_index()\n",
    "    .rename(columns={\"index\": \"date\"})\n",
    "    .set_index([\"cut\", \"name\", \"date\"])\n",
    "    .sort_index()\n",
    ")"
   ]
  },
  {
   "cell_type": "code",
   "execution_count": 27,
   "metadata": {},
   "outputs": [],
   "source": [
    "# fig, ax = plt.subplots(figsize=(12, 6))\n",
    "# pindex.plot_index_comparison(df_hole_indices, \"hollow\", ax=ax)"
   ]
  },
  {
   "cell_type": "code",
   "execution_count": null,
   "metadata": {},
   "outputs": [],
   "source": []
  }
 ],
 "metadata": {
  "kernelspec": {
   "display_name": ".venv",
   "language": "python",
   "name": "python3"
  },
  "language_info": {
   "codemirror_mode": {
    "name": "ipython",
    "version": 3
   },
   "file_extension": ".py",
   "mimetype": "text/x-python",
   "name": "python",
   "nbconvert_exporter": "python",
   "pygments_lexer": "ipython3",
   "version": "3.12.4"
  }
 },
 "nbformat": 4,
 "nbformat_minor": 2
}
